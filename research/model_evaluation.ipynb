{
 "cells": [
  {
   "cell_type": "code",
   "execution_count": 1,
   "metadata": {},
   "outputs": [],
   "source": [
    "import os"
   ]
  },
  {
   "cell_type": "code",
   "execution_count": 2,
   "metadata": {},
   "outputs": [
    {
     "data": {
      "text/plain": [
       "'d:\\\\cnn-example\\\\cnn-chickendisease-example\\\\research'"
      ]
     },
     "execution_count": 2,
     "metadata": {},
     "output_type": "execute_result"
    }
   ],
   "source": [
    "pwd"
   ]
  },
  {
   "cell_type": "code",
   "execution_count": 3,
   "metadata": {},
   "outputs": [],
   "source": [
    "os.chdir(\"../\")"
   ]
  },
  {
   "cell_type": "code",
   "execution_count": 4,
   "metadata": {},
   "outputs": [
    {
     "data": {
      "text/plain": [
       "'d:\\\\cnn-example\\\\cnn-chickendisease-example'"
      ]
     },
     "execution_count": 4,
     "metadata": {},
     "output_type": "execute_result"
    }
   ],
   "source": [
    "pwd"
   ]
  },
  {
   "cell_type": "code",
   "execution_count": null,
   "metadata": {},
   "outputs": [],
   "source": [
    "# now we dont need to update config.yaml here\n",
    "# for model evaluation here, no need\n",
    "# directly define the entity - path etc,"
   ]
  },
  {
   "cell_type": "code",
   "execution_count": 27,
   "metadata": {},
   "outputs": [],
   "source": [
    "from dataclasses import dataclass\n",
    "from pathlib import Path\n",
    "\n",
    "\n",
    "@dataclass(frozen=True)\n",
    "class EvaluationConfig:\n",
    "    path_of_model: Path\n",
    "    training_data: Path\n",
    "    all_params: dict\n",
    "    #mlflow_uri: str\n",
    "    params_image_size: list\n",
    "    params_batch_size: int"
   ]
  },
  {
   "cell_type": "code",
   "execution_count": 28,
   "metadata": {},
   "outputs": [],
   "source": [
    "from cnnClassifier.constants import *\n",
    "from cnnClassifier.utils.common import read_yaml, create_directories, save_json"
   ]
  },
  {
   "cell_type": "code",
   "execution_count": 29,
   "metadata": {},
   "outputs": [],
   "source": [
    "class ConfigurationManager:\n",
    "    '''\n",
    "    creates a class that will manage all your configuration settings - \n",
    "    think of it as a control center for your model evaluation settings.\n",
    "    '''\n",
    "    def __init__(\n",
    "        self, \n",
    "        config_filepath = CONFIG_FILE_PATH, \n",
    "        params_filepath = PARAMS_FILE_PATH): \n",
    "        self.config = read_yaml(config_filepath) #  reads your configuration file (in YAML format) and stores all its settings in self.config. It's like opening a recipe book and keeping it handy.\n",
    "        self.params = read_yaml(params_filepath) # Similarly, this reads your parameters file and stores settings in self.params. These are specific settings like image size and batch size that your model needs.\n",
    "\n",
    "        create_directories([self.config.artifacts_root]) \n",
    "        # This ensures your main storage folder (artifacts) exists.\n",
    "        # If it doesn't, it creates it - like making sure you have a filing cabinet before you try to store files.\n",
    "        \n",
    "\n",
    "    \n",
    "    def get_evaluation_config(self) -> EvaluationConfig:\n",
    "        '''\n",
    "         responsible for creating a special package of settings just for model evaluation. \n",
    "         The -> EvaluationConfig part promises it will return an EvaluationConfig object.\n",
    "        '''\n",
    "        eval_config = EvaluationConfig(\n",
    "            path_of_model=\"artifacts/training/model.h5\", # This specifies where your trained model is saved - it's looking for a file named \"model.h5\" in your training folder.\n",
    "            training_data=\"artifacts/data_ingestion/chickenfecalimages\",\n",
    "            all_params=self.params, # This passes along all your model parameters at once - it's like handing over the entire instruction manual.\n",
    "            params_image_size=self.params.IMAGE_SIZE, #This specifies how big your images need to be (like 224x224 pixels) - it must match what your model expects.\n",
    "            params_batch_size=self.params.BATCH_SIZE # This sets how many images will be processed at once during evaluation - like deciding how many dishes to cook in one go.\n",
    "        )\n",
    "        return eval_config"
   ]
  },
  {
   "cell_type": "code",
   "execution_count": 30,
   "metadata": {},
   "outputs": [],
   "source": [
    "import tensorflow as tf\n",
    "import mlflow\n",
    "import mlflow.keras\n",
    "from urllib.parse import urlparse"
   ]
  },
  {
   "cell_type": "code",
   "execution_count": 31,
   "metadata": {},
   "outputs": [],
   "source": [
    "# import the model\n",
    "model = tf.keras.models.load_model(\"artifacts/training/model.h5\")\n",
    "\n",
    "# This is like opening up your trained CNN from storage, making it ready for testing."
   ]
  },
  {
   "cell_type": "code",
   "execution_count": 32,
   "metadata": {},
   "outputs": [],
   "source": [
    "class Evaluation:\n",
    "    def __init__(self, config: EvaluationConfig):\n",
    "        self.config = config # This initializes your evaluation setup using the configuration\n",
    "\n",
    "    \n",
    "    def _valid_generator(self):\n",
    "        '''\n",
    "        This sets up how your images will be prepared. \n",
    "        The rescale=1./255 converts your image pixels from 0-255 to 0-1 (like converting dollars to cents for easier calculation), \n",
    "        and validation_split=0.30 reserves 30% of your data for validation.\n",
    "        '''\n",
    "\n",
    "        datagenerator_kwargs = dict(\n",
    "            rescale = 1./255,\n",
    "            validation_split=0.30\n",
    "        )\n",
    "        \n",
    "        '''\n",
    "        The below defines how images will be processed in batches. \n",
    "        The target_size ensures all images are the same size,\n",
    "        and bilinear interpolation helps resize images smoothly.\n",
    "        '''\n",
    "\n",
    "        dataflow_kwargs = dict(\n",
    "            target_size=self.config.params_image_size[:-1],\n",
    "            batch_size=self.config.params_batch_size,\n",
    "            interpolation=\"bilinear\"\n",
    "        )\n",
    "        \n",
    "\n",
    "\n",
    "        valid_datagenerator = tf.keras.preprocessing.image.ImageDataGenerator(\n",
    "            \"This creates your image processing pipeline using the settings we defined.\"\n",
    "            **datagenerator_kwargs\n",
    "        )\n",
    "\n",
    "        self.valid_generator = valid_datagenerator.flow_from_directory(\n",
    "            \"This sets up a stream of images from your directory, specifically using the validation subset.\"\n",
    "            directory=self.config.training_data,\n",
    "            subset=\"validation\",\n",
    "            shuffle=False,\n",
    "            **dataflow_kwargs\n",
    "        )\n",
    "\n",
    "    # is marked as a static method because loading a model from a path doesn't require any instance-specific information\n",
    "    @staticmethod\n",
    "    def load_model(path: Path) -> tf.keras.Model:\n",
    "        \"function to load the model\"\n",
    "        return tf.keras.models.load_model(path)\n",
    "    \n",
    "\n",
    "    def evaluation(self): \n",
    "        '''\n",
    "        \n",
    "        This loads your model, prepares your validation data, and calculates how well your model performs.\n",
    "         Finally, you save the results:\n",
    "        '''\n",
    "        self.model = self.load_model(self.config.path_of_model)\n",
    "        self._valid_generator()\n",
    "        self.score = model.evaluate(self.valid_generator)\n",
    "\n",
    "    \n",
    "    def save_score(self):\n",
    "        \"saving in scores variable\"\n",
    "        scores = {\"loss\": self.score[0], \"accuracy\": self.score[1]}\n",
    "        # saving the scores output in json file\n",
    "        save_json(path=Path(\"scores.json\"), data=scores)"
   ]
  },
  {
   "cell_type": "code",
   "execution_count": null,
   "metadata": {},
   "outputs": [],
   "source": []
  },
  {
   "cell_type": "code",
   "execution_count": 33,
   "metadata": {},
   "outputs": [
    {
     "name": "stdout",
     "output_type": "stream",
     "text": [
      "[2025-01-02 12:31:04,964: INFO: common: yaml file: config\\config.yaml loaded successfully]\n",
      "[2025-01-02 12:31:04,967: INFO: common: yaml file: params.yaml loaded successfully]\n",
      "[2025-01-02 12:31:04,970: INFO: common: created directory at: artifacts]\n",
      "Found 14 images belonging to 2 classes.\n",
      "1/1 [==============================] - 3s 3s/step - loss: 27.6701 - accuracy: 0.5000\n",
      "[2025-01-02 12:31:08,780: INFO: common: json file saved at: scores.json]\n"
     ]
    }
   ],
   "source": [
    "try:\n",
    "    config = ConfigurationManager()\n",
    "    eval_config = config.get_evaluation_config()\n",
    "    evaluation = Evaluation(eval_config)\n",
    "    evaluation.evaluation()\n",
    "    evaluation.save_score()\n",
    "    \n",
    "\n",
    "except Exception as e:\n",
    "   raise e\n",
    "\n",
    "# in the left pane below, you can find scores.json file\n",
    "# and then convert this notebook into modular piece."
   ]
  },
  {
   "cell_type": "code",
   "execution_count": null,
   "metadata": {},
   "outputs": [],
   "source": []
  },
  {
   "cell_type": "code",
   "execution_count": null,
   "metadata": {},
   "outputs": [],
   "source": []
  }
 ],
 "metadata": {
  "kernelspec": {
   "display_name": "chicken_new",
   "language": "python",
   "name": "python3"
  },
  "language_info": {
   "codemirror_mode": {
    "name": "ipython",
    "version": 3
   },
   "file_extension": ".py",
   "mimetype": "text/x-python",
   "name": "python",
   "nbconvert_exporter": "python",
   "pygments_lexer": "ipython3",
   "version": "3.11.11"
  }
 },
 "nbformat": 4,
 "nbformat_minor": 2
}
