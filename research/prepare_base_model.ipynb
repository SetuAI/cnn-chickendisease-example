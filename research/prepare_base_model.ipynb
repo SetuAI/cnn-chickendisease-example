{
 "cells": [
  {
   "cell_type": "code",
   "execution_count": 1,
   "metadata": {},
   "outputs": [],
   "source": [
    "# we are using pretrained model for image classication \n",
    "# list here : https://keras.io/api/applications/\n",
    "# we prefer VGG16 : https://keras.io/api/applications/vgg/#vgg16-function\n",
    "# we will use VGG16 model for image classification (light weight)\n",
    "\n",
    "# it as combination of convolutional layers and dense layers\n",
    "# convolutional layers are used to extract the features from the image\n",
    "# dense layers are used to classify the image, based on the features extracted by convolutional layers"
   ]
  },
  {
   "cell_type": "code",
   "execution_count": 2,
   "metadata": {},
   "outputs": [],
   "source": [
    "import os"
   ]
  },
  {
   "cell_type": "code",
   "execution_count": 3,
   "metadata": {},
   "outputs": [
    {
     "data": {
      "text/plain": [
       "'d:\\\\cnn-example\\\\cnn-chickendisease-example\\\\research'"
      ]
     },
     "execution_count": 3,
     "metadata": {},
     "output_type": "execute_result"
    }
   ],
   "source": [
    "pwd"
   ]
  },
  {
   "cell_type": "code",
   "execution_count": 4,
   "metadata": {},
   "outputs": [],
   "source": [
    "os.chdir('../')"
   ]
  },
  {
   "cell_type": "code",
   "execution_count": 5,
   "metadata": {},
   "outputs": [
    {
     "data": {
      "text/plain": [
       "'d:\\\\cnn-example\\\\cnn-chickendisease-example'"
      ]
     },
     "execution_count": 5,
     "metadata": {},
     "output_type": "execute_result"
    }
   ],
   "source": [
    "pwd"
   ]
  },
  {
   "cell_type": "code",
   "execution_count": 6,
   "metadata": {},
   "outputs": [],
   "source": [
    "from dataclasses import dataclass\n",
    "from pathlib import Path\n",
    "\n",
    "\n",
    "@dataclass(frozen=True)\n",
    "class PrepareBaseModelConfig:\n",
    "    root_dir: Path\n",
    "    base_model_path: Path\n",
    "    updated_base_model_path: Path\n",
    "    params_image_size: list\n",
    "    params_learning_rate: float\n",
    "    params_include_top: bool\n",
    "    params_weights: str\n",
    "    params_classes: int"
   ]
  },
  {
   "cell_type": "code",
   "execution_count": 7,
   "metadata": {},
   "outputs": [],
   "source": [
    "from cnnClassifier.constants import *\n",
    "from cnnClassifier.utils.common import read_yaml, create_directories"
   ]
  },
  {
   "cell_type": "code",
   "execution_count": 8,
   "metadata": {},
   "outputs": [],
   "source": [
    "class ConfigurationManager:\n",
    "    \"create configuration manager class to manage the configuration of the project\"\n",
    "    def __init__(\n",
    "        self, \n",
    "        config_filepath = CONFIG_FILE_PATH,\n",
    "        params_filepath = PARAMS_FILE_PATH):\n",
    "        self.config = read_yaml(config_filepath)\n",
    "        self.params = read_yaml(params_filepath)\n",
    "        create_directories([self.config.artifacts_root])\n",
    "\n",
    "\n",
    "    def get_prepare_base_model_config(self) -> PrepareBaseModelConfig:\n",
    "        '''\n",
    "        This first part extracts the base model configuration from your YAML file \n",
    "        and ensures you have a directory to store your model files. \n",
    "        Think of it like preparing a workspace before assembling a complex piece of machinery.\n",
    "        \n",
    "        '''\n",
    "        config = self.config.prepare_base_model\n",
    "        \n",
    "        create_directories([config.root_dir])\n",
    "\n",
    "        prepare_base_model_config = PrepareBaseModelConfig(\n",
    "            root_dir=Path(config.root_dir),\n",
    "            base_model_path=Path(config.base_model_path),\n",
    "            updated_base_model_path=Path(config.updated_base_model_path),\n",
    "            params_image_size=self.params.IMAGE_SIZE,\n",
    "            params_learning_rate=self.params.LEARNING_RATE,\n",
    "            params_include_top=self.params.INCLUDE_TOP,\n",
    "            params_weights=self.params.WEIGHTS,\n",
    "            params_classes=self.params.CLASSES\n",
    "        )\n",
    "\n",
    "        return prepare_base_model_config\n",
    "    \n",
    "    \n",
    "    '''\n",
    "    Explanation of the above code : \n",
    "    \n",
    "    root_dir: This is your workspace directory where all model-related files will be stored.\n",
    "    base_model_path and updated_base_model_path: These are like \"before\" and \"after\" snapshots. The base_model_path is where your initial pre-trained model will be saved, and updated_base_model_path is where you'll save the model after modifying it for your specific task.\n",
    "    params_image_size: This defines the dimensions your model expects for input images. If your model expects 224x224 pixel images, all your training images will need to match this size.\n",
    "    params_learning_rate: This is like setting the \"cautiousness\" of your model during training. A higher learning rate means bigger adjustments during training, while a lower rate means more careful, smaller adjustments.\n",
    "    params_include_top: This is a crucial flag that determines whether to include the classification layers of the original model. Setting this to False is common when you're adapting a pre-trained model for a new task.\n",
    "    params_weights: This typically specifies whether to load pre-trained weights (like 'imagenet') or start from scratch.\n",
    "    params_classes: This defines how many different categories your model needs to predict. In your case, this would be the number of different classifications in your chicken fecal image dataset.\n",
    "\n",
    "    The type hint -> PrepareBaseModelConfig ensures that this method always returns the correct type of configuration object, making your code more reliable and easier to debug.\n",
    "    \n",
    "    '''"
   ]
  },
  {
   "cell_type": "code",
   "execution_count": 9,
   "metadata": {},
   "outputs": [],
   "source": [
    "import os\n",
    "import urllib.request as request\n",
    "from zipfile import ZipFile\n",
    "import tensorflow as tf"
   ]
  },
  {
   "cell_type": "code",
   "execution_count": 10,
   "metadata": {},
   "outputs": [],
   "source": [
    "class PrepareBaseModel:\n",
    "    def __init__(self, config: PrepareBaseModelConfig):\n",
    "        self.config = config\n",
    "\n",
    "    def get_base_model(self):\n",
    "        \"downloading the VGG16 model here from keras library\"\n",
    "        self.model = tf.keras.applications.vgg16.VGG16(\n",
    "            input_shape=self.config.params_image_size,\n",
    "            weights=self.config.params_weights,\n",
    "            include_top=self.config.params_include_top\n",
    "        )\n",
    "        # below we have written a function for saving the model,  using it here\n",
    "        self.save_model(path=self.config.base_model_path, model=self.model)\n",
    "    \n",
    "    '''\n",
    "    Explanation of the above code : \n",
    "    This method downloads VGG16, a powerful pre-trained model. Think of it like getting a skilled artist who has learned to recognize millions of images. The parameters are crucial:\n",
    "\n",
    "    input_shape tells the model what size images to expect\n",
    "    weights='imagenet' loads pre-learned knowledge from millions of images\n",
    "    include_top=False removes the original classification layers since you'll add your own\n",
    "    \n",
    "    '''\n",
    "\n",
    "\n",
    "    @staticmethod\n",
    "    def _prepare_full_model(model, classes, freeze_all, freeze_till, learning_rate):\n",
    "        \"freeze_till is used to freeze the layers till the given layer, for ex, freeze 5 layers\"\n",
    "        if freeze_all:\n",
    "            for layer in model.layers:\n",
    "                model.trainable = False\n",
    "        elif (freeze_till is not None) and (freeze_till > 0):\n",
    "            for layer in model.layers[:-freeze_till]:\n",
    "                model.trainable = False\n",
    "        \n",
    "        '''\n",
    "        Explanation of the above code : \n",
    "        \n",
    "        This part handles \"transfer learning\" by freezing layers. \n",
    "        When you freeze a layer, you're telling that part of the model \"keep your knowledge,\n",
    "        don't learn anything new.\" It's like telling an artist \"keep your understanding of basic shapes and colors, \n",
    "        but we'll teach you specifically about chicken diseases.\"\n",
    "        '''\n",
    "\n",
    "        flatten_in = tf.keras.layers.Flatten()(model.output)\n",
    "        prediction = tf.keras.layers.Dense(\n",
    "            units=classes,\n",
    "            activation=\"softmax\"\n",
    "        )(flatten_in)\n",
    "        \n",
    "        '''\n",
    "        Explanation of the above code : \n",
    "        This adds your custom classification head. The Flatten layer converts the complex image features into a simple format,\n",
    "        and the Dense layer makes the final predictions for your specific classes.\n",
    "        It's like adding a specialized chicken disease expert on top of the general artist's knowledge.\n",
    "        \n",
    "        '''\n",
    "\n",
    "        full_model = tf.keras.models.Model(\n",
    "            inputs=model.input,\n",
    "            outputs=prediction\n",
    "        )\n",
    "        # if using keras, we have to compile the model\n",
    "        full_model.compile(\n",
    "            optimizer=tf.keras.optimizers.SGD(learning_rate=learning_rate),\n",
    "            loss=tf.keras.losses.CategoricalCrossentropy(),\n",
    "            metrics=[\"accuracy\"]\n",
    "        )\n",
    "\n",
    "        full_model.summary()\n",
    "        return full_model\n",
    "    \n",
    "    '''\n",
    "    Explanation of the above code : \n",
    "    \n",
    "    This sets up how the model will learn:\n",
    "\n",
    "    SGD (Stochastic Gradient Descent) optimizer is like the model's learning strategy\n",
    "    CategoricalCrossentropy loss helps the model understand how wrong its predictions are\n",
    "    Accuracy metric tracks how well it's doing\n",
    "    \n",
    "    '''\n",
    "    \n",
    "\n",
    "    def update_base_model(self):\n",
    "        '''\n",
    "        This creates your final model architecture, freezing all the VGG16 layers \n",
    "        (freeze_all=True) \n",
    "        and adding your custom classification layers for chicken disease identification.\n",
    "        '''\n",
    "        self.full_model = self._prepare_full_model(\n",
    "            model=self.model,\n",
    "            classes=self.config.params_classes,\n",
    "            freeze_all=True,\n",
    "            freeze_till=None,\n",
    "            learning_rate=self.config.params_learning_rate\n",
    "        )\n",
    "\n",
    "        self.save_model(path=self.config.updated_base_model_path, model=self.full_model)\n",
    "\n",
    "    \n",
    "    @staticmethod\n",
    "    def save_model(path: Path, model: tf.keras.Model):\n",
    "        \"function for saving the model\"\n",
    "        model.save(path)\n"
   ]
  },
  {
   "cell_type": "code",
   "execution_count": 11,
   "metadata": {},
   "outputs": [
    {
     "name": "stdout",
     "output_type": "stream",
     "text": [
      "[2025-01-02 10:32:36,675: INFO: common: yaml file: config\\config.yaml loaded successfully]\n",
      "[2025-01-02 10:32:36,679: INFO: common: yaml file: params.yaml loaded successfully]\n",
      "[2025-01-02 10:32:36,680: INFO: common: created directory at: artifacts]\n",
      "[2025-01-02 10:32:36,684: INFO: common: created directory at: artifacts/prepare_base_model]\n",
      "Downloading data from https://storage.googleapis.com/tensorflow/keras-applications/vgg16/vgg16_weights_tf_dim_ordering_tf_kernels_notop.h5\n",
      "58889256/58889256 [==============================] - 23s 0us/step\n",
      "[2025-01-02 10:33:01,268: WARNING: saving_utils: Compiled the loaded model, but the compiled metrics have yet to be built. `model.compile_metrics` will be empty until you train or evaluate the model.]\n",
      "Model: \"model\"\n",
      "_________________________________________________________________\n",
      " Layer (type)                Output Shape              Param #   \n",
      "=================================================================\n",
      " input_1 (InputLayer)        [(None, 224, 224, 3)]     0         \n",
      "                                                                 \n",
      " block1_conv1 (Conv2D)       (None, 224, 224, 64)      1792      \n",
      "                                                                 \n",
      " block1_conv2 (Conv2D)       (None, 224, 224, 64)      36928     \n",
      "                                                                 \n",
      " block1_pool (MaxPooling2D)  (None, 112, 112, 64)      0         \n",
      "                                                                 \n",
      " block2_conv1 (Conv2D)       (None, 112, 112, 128)     73856     \n",
      "                                                                 \n",
      " block2_conv2 (Conv2D)       (None, 112, 112, 128)     147584    \n",
      "                                                                 \n",
      " block2_pool (MaxPooling2D)  (None, 56, 56, 128)       0         \n",
      "                                                                 \n",
      " block3_conv1 (Conv2D)       (None, 56, 56, 256)       295168    \n",
      "                                                                 \n",
      " block3_conv2 (Conv2D)       (None, 56, 56, 256)       590080    \n",
      "                                                                 \n",
      " block3_conv3 (Conv2D)       (None, 56, 56, 256)       590080    \n",
      "                                                                 \n",
      " block3_pool (MaxPooling2D)  (None, 28, 28, 256)       0         \n",
      "                                                                 \n",
      " block4_conv1 (Conv2D)       (None, 28, 28, 512)       1180160   \n",
      "                                                                 \n",
      " block4_conv2 (Conv2D)       (None, 28, 28, 512)       2359808   \n",
      "                                                                 \n",
      " block4_conv3 (Conv2D)       (None, 28, 28, 512)       2359808   \n",
      "                                                                 \n",
      " block4_pool (MaxPooling2D)  (None, 14, 14, 512)       0         \n",
      "                                                                 \n",
      " block5_conv1 (Conv2D)       (None, 14, 14, 512)       2359808   \n",
      "                                                                 \n",
      " block5_conv2 (Conv2D)       (None, 14, 14, 512)       2359808   \n",
      "                                                                 \n",
      " block5_conv3 (Conv2D)       (None, 14, 14, 512)       2359808   \n",
      "                                                                 \n",
      " block5_pool (MaxPooling2D)  (None, 7, 7, 512)         0         \n",
      "                                                                 \n",
      " flatten (Flatten)           (None, 25088)             0         \n",
      "                                                                 \n",
      " dense (Dense)               (None, 2)                 50178     \n",
      "                                                                 \n",
      "=================================================================\n",
      "Total params: 14,764,866\n",
      "Trainable params: 50,178\n",
      "Non-trainable params: 14,714,688\n",
      "_________________________________________________________________\n"
     ]
    }
   ],
   "source": [
    "try:\n",
    "    config = ConfigurationManager()\n",
    "    prepare_base_model_config = config.get_prepare_base_model_config()\n",
    "    prepare_base_model = PrepareBaseModel(config=prepare_base_model_config)\n",
    "    prepare_base_model.get_base_model()\n",
    "    prepare_base_model.update_base_model()\n",
    "except Exception as e:\n",
    "    raise e\n",
    "\n",
    "# it will start downloading the base VGG16 model from keras library\n",
    "# after this, it will update the model,\n",
    "# basically, it will add the custom layers instead of dense layers\n",
    "\n",
    "# onc eexecuted you can check the artifcats folder, \n",
    "# you will see the base model and updated model being downloaded\n",
    "# we will be using base_model_updated version for training the model on our dataset\n",
    "# now convert this notebook as modular piece , go to config_entity.py\n"
   ]
  },
  {
   "cell_type": "code",
   "execution_count": null,
   "metadata": {},
   "outputs": [],
   "source": []
  },
  {
   "cell_type": "code",
   "execution_count": null,
   "metadata": {},
   "outputs": [],
   "source": []
  },
  {
   "cell_type": "code",
   "execution_count": null,
   "metadata": {},
   "outputs": [],
   "source": []
  },
  {
   "cell_type": "code",
   "execution_count": null,
   "metadata": {},
   "outputs": [],
   "source": []
  }
 ],
 "metadata": {
  "kernelspec": {
   "display_name": "chicken_new",
   "language": "python",
   "name": "python3"
  },
  "language_info": {
   "codemirror_mode": {
    "name": "ipython",
    "version": 3
   },
   "file_extension": ".py",
   "mimetype": "text/x-python",
   "name": "python",
   "nbconvert_exporter": "python",
   "pygments_lexer": "ipython3",
   "version": "3.11.11"
  }
 },
 "nbformat": 4,
 "nbformat_minor": 2
}
